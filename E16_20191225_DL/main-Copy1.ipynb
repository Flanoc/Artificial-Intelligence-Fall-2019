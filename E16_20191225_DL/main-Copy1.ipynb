{
 "cells": [
  {
   "cell_type": "code",
   "execution_count": 1,
   "metadata": {},
   "outputs": [],
   "source": [
    "import numpy as np\n",
    "import matplotlib.pyplot as plt\n",
    "from cs231n.classifiers.cnn import *\n",
    "from cs231n.data_utils import get_CIFAR10_data\n",
    "from cs231n.layers import *\n",
    "from cs231n.fast_layers import *\n",
    "from cs231n.solver import Solver"
   ]
  },
  {
   "cell_type": "code",
   "execution_count": 2,
   "metadata": {},
   "outputs": [
    {
     "name": "stdout",
     "output_type": "stream",
     "text": [
      "X_train:  (49000, 3, 32, 32)\n",
      "y_train:  (49000,)\n",
      "X_val:  (1000, 3, 32, 32)\n",
      "y_val:  (1000,)\n",
      "X_test:  (1000, 3, 32, 32)\n",
      "y_test:  (1000,)\n"
     ]
    }
   ],
   "source": [
    "# Load the (preprocessed) CIFAR10 data.\n",
    "\n",
    "data = get_CIFAR10_data()\n",
    "for k, v in data.items():\n",
    "  print('%s: ' % k, v.shape)"
   ]
  },
  {
   "cell_type": "code",
   "execution_count": null,
   "metadata": {
    "scrolled": true
   },
   "outputs": [
    {
     "name": "stdout",
     "output_type": "stream",
     "text": [
      "(Iteration 1 / 49000) loss: 2.303497\n",
      "(Epoch 0 / 50) train acc: 0.137000; val_acc: 0.136000\n",
      "(Iteration 21 / 49000) loss: 2.113871\n",
      "(Iteration 41 / 49000) loss: 1.897008\n",
      "(Iteration 61 / 49000) loss: 1.828949\n",
      "(Iteration 81 / 49000) loss: 1.867291\n",
      "(Iteration 101 / 49000) loss: 1.647512\n",
      "(Iteration 121 / 49000) loss: 1.706804\n",
      "(Iteration 141 / 49000) loss: 2.208302\n",
      "(Iteration 161 / 49000) loss: 1.605093\n",
      "(Iteration 181 / 49000) loss: 1.712450\n",
      "(Iteration 201 / 49000) loss: 1.557661\n",
      "(Iteration 221 / 49000) loss: 1.653531\n",
      "(Iteration 241 / 49000) loss: 1.679287\n",
      "(Iteration 261 / 49000) loss: 1.726051\n",
      "(Iteration 281 / 49000) loss: 1.672221\n",
      "(Iteration 301 / 49000) loss: 1.757997\n",
      "(Iteration 321 / 49000) loss: 1.665303\n",
      "(Iteration 341 / 49000) loss: 1.943952\n"
     ]
    }
   ],
   "source": [
    "model = ThreeLayerConvNet(weight_scale=0.001, hidden_dim=200, reg=0.001)\n",
    "\n",
    "solver = Solver(model, data, \n",
    "                num_epochs=50, batch_size=50,\n",
    "                update_rule='adam',\n",
    "                optim_config={\n",
    "                  'learning_rate': 1e-3,\n",
    "                  #'learning_rate': 0.002,\n",
    "                },\n",
    "                lr_decay = 0.97,\n",
    "                print_every = 20,\n",
    "                verbose = True)\n",
    "solver.train()"
   ]
  },
  {
   "cell_type": "code",
   "execution_count": null,
   "metadata": {},
   "outputs": [],
   "source": []
  },
  {
   "cell_type": "code",
   "execution_count": null,
   "metadata": {},
   "outputs": [],
   "source": []
  }
 ],
 "metadata": {
  "kernelspec": {
   "display_name": "Python 3",
   "language": "python",
   "name": "python3"
  },
  "language_info": {
   "codemirror_mode": {
    "name": "ipython",
    "version": 3
   },
   "file_extension": ".py",
   "mimetype": "text/x-python",
   "name": "python",
   "nbconvert_exporter": "python",
   "pygments_lexer": "ipython3",
   "version": "3.7.0"
  }
 },
 "nbformat": 4,
 "nbformat_minor": 2
}
